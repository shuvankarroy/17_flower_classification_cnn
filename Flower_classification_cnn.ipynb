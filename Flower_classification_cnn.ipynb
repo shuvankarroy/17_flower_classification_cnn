{
  "nbformat": 4,
  "nbformat_minor": 0,
  "metadata": {
    "colab": {
      "name": "Flower_classification_cnn.ipynb",
      "version": "0.3.2",
      "provenance": [],
      "include_colab_link": true
    },
    "language_info": {
      "codemirror_mode": {
        "name": "ipython",
        "version": 3
      },
      "file_extension": ".py",
      "mimetype": "text/x-python",
      "name": "python",
      "nbconvert_exporter": "python",
      "pygments_lexer": "ipython3",
      "version": "3.7.1"
    },
    "kernelspec": {
      "name": "python3",
      "display_name": "Python 3"
    },
    "accelerator": "GPU"
  },
  "cells": [
    {
      "cell_type": "markdown",
      "metadata": {
        "id": "view-in-github",
        "colab_type": "text"
      },
      "source": [
        "<a href=\"https://colab.research.google.com/github/shuvankarroy/17_flower_classification_cnn/blob/master/Flower_classification_cnn.ipynb\" target=\"_parent\"><img src=\"https://colab.research.google.com/assets/colab-badge.svg\" alt=\"Open In Colab\"/></a>"
      ]
    },
    {
      "cell_type": "markdown",
      "metadata": {
        "id": "k9l0IGfl9Fov",
        "colab_type": "text"
      },
      "source": [
        "## Import required modules"
      ]
    },
    {
      "cell_type": "code",
      "metadata": {
        "id": "1kUp4gXh9Fow",
        "colab_type": "code",
        "colab": {}
      },
      "source": [
        "import os\n",
        "from keras.applications.vgg16 import VGG16\n",
        "from keras.preprocessing.image import ImageDataGenerator\n",
        "from keras.models import Sequential, Model\n",
        "from keras.layers import Input, Activation, Dropout, Flatten, Dense\n",
        "from keras.preprocessing.image import ImageDataGenerator\n",
        "from keras import optimizers\n",
        "import numpy as np\n",
        "from google.colab import drive"
      ],
      "execution_count": 0,
      "outputs": []
    },
    {
      "cell_type": "markdown",
      "metadata": {
        "id": "yX9PKaeqBNsF",
        "colab_type": "text"
      },
      "source": [
        "## Steps needed to be excute for google drive"
      ]
    },
    {
      "cell_type": "code",
      "metadata": {
        "id": "lL8l8hzG-hp9",
        "colab_type": "code",
        "colab": {}
      },
      "source": [
        "drive.mount('/content/drive')\n",
        "train_data_dir = '/content/drive/My Drive/flowers_classified_data/train_data'\n",
        "validation_data_dir = '/content/drive/My Drive/flowers_classified_data/validation_data'"
      ],
      "execution_count": 0,
      "outputs": []
    },
    {
      "cell_type": "markdown",
      "metadata": {
        "id": "ukwx02xPBX7x",
        "colab_type": "text"
      },
      "source": [
        "## Steps needed to be executed for local computer execution"
      ]
    },
    {
      "cell_type": "code",
      "metadata": {
        "id": "vAcecCRaBYUg",
        "colab_type": "code",
        "colab": {}
      },
      "source": [
        "train_data_dir = 'flowers_classified_data\\\\train_data'\n",
        "validation_data_dir = 'flowers_classified_data\\\\validation_data'"
      ],
      "execution_count": 0,
      "outputs": []
    },
    {
      "cell_type": "markdown",
      "metadata": {
        "id": "fGy-Xx779Foz",
        "colab_type": "text"
      },
      "source": [
        "## Set up required variables"
      ]
    },
    {
      "cell_type": "code",
      "metadata": {
        "id": "HqVKw-uE9Fo0",
        "colab_type": "code",
        "colab": {}
      },
      "source": [
        "# initialize classes with 17 different classes\n",
        "classes = ['Tulip', 'Snowdrop', 'LilyValley', 'Bluebell', 'Crocus',\n",
        "           'Iris', 'Tigerlily', 'Daffodil', 'Fritillary', 'Sunflower',\n",
        "           'Daisy', 'ColtsFoot', 'Dandelion', 'Cowslip', 'Buttercup',\n",
        "           'Windflower', 'Pansy']\n",
        "\n",
        "batch_size = 32\n",
        "nb_classes = len(classes)\n",
        "\n",
        "img_rows, img_cols = 150, 150\n",
        "channels = 3\n",
        "nb_valid = 10\n",
        "\n",
        "\n",
        "nb_train_samples = 1190\n",
        "nb_val_samples = 170\n",
        "nb_epoch = 50\n",
        "\n",
        "result_dir = 'results'\n",
        "if not os.path.exists(result_dir):\n",
        "    os.mkdir(result_dir)\n"
      ],
      "execution_count": 0,
      "outputs": []
    },
    {
      "cell_type": "markdown",
      "metadata": {
        "id": "U5UKrCXM9Fo2",
        "colab_type": "text"
      },
      "source": [
        "## Create validation data (assumption : all data is initially stored in \"/flowers_classified_data/train_data\" directory)"
      ]
    },
    {
      "cell_type": "code",
      "metadata": {
        "id": "ZbOPAbtS9Fo3",
        "colab_type": "code",
        "colab": {}
      },
      "source": [
        "import os, random\n",
        "dataSet = os.getcwd()+'\\\\flowers_classified_data'\n",
        "selected = []\n",
        "count = 0\n",
        "\n",
        "for class_name in classes:\n",
        "    print(class_name)\n",
        "    while(True):\n",
        "        srcpath = dataSet+'\\\\train_data\\\\'+class_name\n",
        "        destpath = dataSet+'\\\\validation_data\\\\'+class_name\n",
        "        fileName = random.choice([x for x in os.listdir(srcpath+'\\\\') if os.path.isfile(os.path.join(srcpath+'\\\\', x))]) \n",
        "        #print(fileName)\n",
        "        if(count < nb_valid and fileName not in selected):\n",
        "            selected.append(fileName)\n",
        "            print(srcpath+'\\\\'+fileName)\n",
        "            #os.rename(srcpath+'\\\\'+fileName, destpath+'\\\\'+fileName)\n",
        "            count += 1\n",
        "            #print(selected)\n",
        "        elif(count >= nb_valid):\n",
        "            count = 0\n",
        "            print(selected)\n",
        "            selected = []\n",
        "            break"
      ],
      "execution_count": 0,
      "outputs": []
    },
    {
      "cell_type": "code",
      "metadata": {
        "id": "SKSLY2qZ9Fo6",
        "colab_type": "code",
        "colab": {}
      },
      "source": [
        "if __name__ == '__main__':\n",
        "\n",
        "    input_tensor = Input(shape=(img_rows, img_cols, channels))\n",
        "    vgg16 = VGG16(include_top=False, weights=None, input_tensor=input_tensor)\n",
        "\n",
        "\n",
        "    top_model = Sequential()\n",
        "    top_model.add(Flatten(input_shape=vgg16.output_shape[1:]))\n",
        "    top_model.add(Dense(256, activation='relu'))\n",
        "    top_model.add(Dropout(0.5))\n",
        "    top_model.add(Dense(nb_classes, activation='softmax'))\n",
        "\n",
        "    # VGG16\n",
        "    model = Model(input=vgg16.input, output=top_model(vgg16.output))\n",
        "\n",
        "    # VGG16 model compilation\n",
        "    model.compile(loss='categorical_crossentropy',\n",
        "                  optimizer='adam',\n",
        "                  metrics=['accuracy'])\n",
        "\n",
        "    train_datagen = ImageDataGenerator(\n",
        "        rescale=1.0 / 255,\n",
        "        shear_range=0.2,\n",
        "        zoom_range=0.2,\n",
        "        horizontal_flip=True)\n",
        "\n",
        "    test_datagen = ImageDataGenerator(rescale=1.0 / 255)\n",
        "\n",
        "    train_generator = train_datagen.flow_from_directory(\n",
        "        train_data_dir,\n",
        "        target_size=(img_rows, img_cols),\n",
        "        color_mode='rgb',\n",
        "        classes=classes,\n",
        "        class_mode='categorical',\n",
        "        batch_size=batch_size,\n",
        "        shuffle=True)\n",
        "    \n",
        "    validation_generator = test_datagen.flow_from_directory(\n",
        "        validation_data_dir,\n",
        "        target_size=(img_rows, img_cols),\n",
        "        color_mode='rgb',\n",
        "        classes=classes,\n",
        "        class_mode='categorical',\n",
        "        batch_size=batch_size,\n",
        "        shuffle=True)\n",
        "    \n",
        "    history = model.fit_generator(\n",
        "        train_generator,\n",
        "        steps_per_epoch=nb_train_samples//batch_size,\n",
        "        nb_epoch=nb_epoch, \n",
        "        validation_data=validation_generator,\n",
        "        validation_steps=nb_val_samples//batch_size,\n",
        "        use_multiprocessing=True)\n",
        "\n",
        "    #model.save_weights(os.path.join(result_dir, 'vgg_scratch.h5'))\n",
        "    #save_history(history, os.path.join(result_dir, 'history_vgg_scratch.txt'))"
      ],
      "execution_count": 0,
      "outputs": []
    }
  ]
}